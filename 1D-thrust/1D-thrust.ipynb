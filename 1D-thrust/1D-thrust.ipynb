{
 "metadata": {
  "name": "1D-thrust"
 },
 "nbformat": 3,
 "nbformat_minor": 0,
 "worksheets": [
  {
   "cells": [
    {
     "cell_type": "markdown",
     "metadata": {},
     "source": [
      "# 1D Thrust\n",
      "\n",
      "Real spaceflight dynamics are complex. There are only a few basic forces involved, but some of them (namely air resistance) are non-conservative and tricky. In order to make a useful, accurate model of spaceflight you have to build a complex numerical approximation. However there is no need to be too complicated too quickly. A great place to start is to find an analytical solution for a rocket, solving for the height it will travel. Put everything in the 'up' axis and ignoring a ton of things will result in an easy place to start.\n",
      "\n",
      "## The Simplest Case\n",
      "\n",
      "The true simplest case is a point-mass rocket that is in free space with no gravity, air-resistance and has a simplified model of propulsion. Describing this situation mathematically results in the classic [Tsiolkovsky rocket equation](http://en.wikipedia.org/wiki/Tsiolkovsky_rocket_equation).\n",
      "\n",
      "$$\\begin{equation}\\Delta v = v_e \\ln\\left(\\frac{m_0}{m_f}\\right)\\end{equation}$$\n",
      "\n",
      "Where\n",
      "\n",
      " - $\\Delta v$ is the rocket's change in velocity\n",
      " - $v_e$ is the effective exaust velocity of the motor\n",
      " - $m_0$ and $m_f$ are the initial and final mass of the rocket\n",
      "\n",
      "So calculating the motor burnout velocity of a rocket looks like this"
     ]
    },
    {
     "cell_type": "code",
     "collapsed": false,
     "input": [
      "from math import log\n",
      "\n",
      "v_e = 2345.0   # m/s\n",
      "m_0 =  100.0   # kg\n",
      "m_f =   40.0   # kg\n",
      "\n",
      "dv = v_e*log(m_0/m_f)\n",
      "\n",
      "print dv"
     ],
     "language": "python",
     "metadata": {},
     "outputs": [
      {
       "output_type": "stream",
       "stream": "stdout",
       "text": [
        "2148.70176624\n"
       ]
      }
     ],
     "prompt_number": 1
    },
    {
     "cell_type": "markdown",
     "metadata": {},
     "source": []
    }
   ],
   "metadata": {}
  }
 ]
}