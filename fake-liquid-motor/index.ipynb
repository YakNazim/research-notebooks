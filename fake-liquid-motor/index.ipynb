{
 "metadata": {
  "name": ""
 },
 "nbformat": 3,
 "nbformat_minor": 0,
 "worksheets": [
  {
   "cells": [
    {
     "cell_type": "markdown",
     "metadata": {},
     "source": [
      "# Making an Open Rocket Motor\n",
      "\n",
      "We need an .eng file for OpenRocket based on our initial guesses for a liquid rocket.\n",
      "\n",
      "## Variables\n",
      "\n",
      "We want to set **Thrust**, **Propellent Mass**, **Tank Material**. We will make assumtions about the $I_{sp}$ and O/F ratios. We'll also add in some fudge factors for take ullage and engine mass.\n",
      "\n",
      "### Setup"
     ]
    },
    {
     "cell_type": "code",
     "collapsed": false,
     "input": [
      "from math import pi\n",
      "\n",
      "# Variables\n",
      "Thrust   =  2000.0    # N       Thrust\n",
      "M_prop   =    25.0    # kg      Propellent Mass\n",
      "rho_tank =  4500.0    # kg/m^3  Tank densisty\n",
      "\n",
      "# Assumptions\n",
      "Isp      =   230.0    # s       Specific Impulse\n",
      "OF       =     1.6    #         O/F ratio\n",
      "r        =     0.0762 # m       Radius rocket\n",
      "\n",
      "# Physics\n",
      "g_0      =      9.81  # g       Standard gravity\n",
      "\n",
      "# Chemestry\n",
      "rho_lox  =   1141.0   # kg/m^3  Desity of LOX\n",
      "rho_eth  =    852.3   # kg/m^3  Desity of Ethanol (with 70% H2O)"
     ],
     "language": "python",
     "metadata": {},
     "outputs": [],
     "prompt_number": 1
    },
    {
     "cell_type": "markdown",
     "metadata": {},
     "source": [
      "### Mass and Flow\n",
      "\n",
      "Given the assumptions above we can solve the mass flow rate through the system"
     ]
    },
    {
     "cell_type": "code",
     "collapsed": false,
     "input": [
      "# Total mass flow rate\n",
      "mdot = Thrust / (g_0*Isp)\n",
      "\n",
      "# Mass flow for each propllent\n",
      "mdot_o = mdot / (1 + (1/OF))\n",
      "mdot_f = mdot / (1 + OF)\n",
      "\n",
      "# Propellent Mass\n",
      "m_o = M_prop / (1 + (1/OF))\n",
      "m_f = M_prop / (1 + OF)\n",
      "\n",
      "print \"Ox mass:   %0.1f kg\" % m_o\n",
      "print \"Fuel mass: %0.2f kg\" % m_f\n",
      "print \"Mass flow: %0.3f kg/s\" % mdot\n",
      "print \"Ox flow:   %0.3f kg/s\" % mdot_o\n",
      "print \"Fuel flow: %0.3f ks/s\" % mdot_f"
     ],
     "language": "python",
     "metadata": {},
     "outputs": [
      {
       "output_type": "stream",
       "stream": "stdout",
       "text": [
        "Ox mass:   15.4 kg\n",
        "Fuel mass: 9.62 kg\n",
        "Mass flow: 0.886 kg/s\n",
        "Ox flow:   0.545 kg/s\n",
        "Fuel flow: 0.341 ks/s\n"
       ]
      }
     ],
     "prompt_number": 2
    },
    {
     "cell_type": "markdown",
     "metadata": {},
     "source": [
      "### Tank Geometry\n",
      "\n",
      "We'll model each tank as a cylinder. We're going to take a guess at the mass of propellant nessissary to run the rocket. We also know the diameter of finished rocket. So we can take a guess at the length of the tank $l_t$:\n",
      "\n",
      "$$l_t = \\frac{m_p}{\\rho_p\\pi r^2}$$\n",
      "\n",
      "Where $m_p$ and $\\rho_p$ are mass and densisty of the propellent and $r$ is the radius of the tank."
     ]
    },
    {
     "cell_type": "code",
     "collapsed": false,
     "input": [
      "def tank_length(m, rho, r):\n",
      "    l = m / (rho*pi*r*r)\n",
      "    # add a fudge for ullege\n",
      "    l += l*0.1 # add 10%\n",
      "    return l\n",
      "\n",
      "l_o = tank_length(m_o, rho_lox, r)\n",
      "l_f = tank_length(m_f, rho_eth, r)\n",
      "\n",
      "print \"Ox tank length:   %0.3f m\" % l_o\n",
      "print \"Fuel tank length: %0.3f m\" % l_f"
     ],
     "language": "python",
     "metadata": {},
     "outputs": [
      {
       "output_type": "stream",
       "stream": "stdout",
       "text": [
        "Ox tank length:   0.813 m\n",
        "Fuel tank length: 0.680 m\n"
       ]
      }
     ],
     "prompt_number": 3
    },
    {
     "cell_type": "markdown",
     "metadata": {},
     "source": [
      "### Tank Mass"
     ]
    },
    {
     "cell_type": "code",
     "collapsed": false,
     "input": [
      "def tank_mass(l, r, rho_tank):\n",
      "    A = 2*pi*r*h + 2*pi*r*r\n",
      "    return A"
     ],
     "language": "python",
     "metadata": {},
     "outputs": [],
     "prompt_number": 4
    },
    {
     "cell_type": "markdown",
     "metadata": {},
     "source": [
      "## Thrust Curve\n",
      "\n"
     ]
    },
    {
     "cell_type": "code",
     "collapsed": false,
     "input": [
      "\n",
      "file_head = \"\"\"<engine-database>\n",
      "  <engine-list>\n",
      "    <engine  mfg=\"PSAS\" code=\"P10000-BS\" Type=\"unspecified\" dia=\"{diameter}.\" len=\"{length}.\"\n",
      "    initWt=\"{total_mass}.\" propWt=\"{M_prop}.\" delays=\"0\" auto-calc-mass=\"0\" auto-calc-cg=\"0\"\n",
      "    avgThrust=\"{thrust}\" peakThrust=\"{thrust}\" throatDia=\"0.\" exitDia=\"0.\" Itot=\"{impulse}\"\n",
      "    burn-time=\"{burn_time}\" massFrac=\"{m_frac}\" Isp=\"{Isp}\" tDiv=\"10\" tStep=\"-1.\" tFix=\"1\"\n",
      "    FDiv=\"10\" FStep=\"-1.\" FFix=\"1\" mDiv=\"10\" mStep=\"-1.\" mFix=\"1\" cgDiv=\"10\"\n",
      "    cgStep=\"-1.\" cgFix=\"1\">\n",
      "    <comments>Made up</comments>\n",
      "    <data>\n",
      "\"\"\".format(**{'diameter': r*2,\n",
      "              'length': 10,\n",
      "              'total_mass': 100,\n",
      "              'M_prop': M_prop,\n",
      "              'thrust': Thrust,\n",
      "              'burn_time': 12,\n",
      "              'm_frac': 0.5,\n",
      "              'impulse': 10000,\n",
      "              'Isp': Isp,\n",
      "    })\n",
      "\n",
      "\"\"\"\n",
      "      <eng-data  t=\"0.\" f=\"0.\" m=\"4959.\" cg=\"351.\"/>\n",
      "\"\"\"\n",
      "\n",
      "file_tail = \"\"\"\n",
      "    </data>\n",
      "  </engine>\n",
      "</engine-list>\n",
      "</engine-database>\"\"\"\n",
      "\n",
      "print file_head"
     ],
     "language": "python",
     "metadata": {},
     "outputs": [
      {
       "output_type": "stream",
       "stream": "stdout",
       "text": [
        "<engine-database>\n",
        "  <engine-list>\n",
        "    <engine  mfg=\"PSAS\" code=\"P10000-BS\" Type=\"unspecified\" dia=\"0.1524.\" len=\"10.\"\n",
        "    initWt=\"100.\" propWt=\"25.0.\" delays=\"0\" auto-calc-mass=\"0\" auto-calc-cg=\"0\"\n",
        "    avgThrust=\"2000.0\" peakThrust=\"2000.0\" throatDia=\"0.\" exitDia=\"0.\" Itot=\"10000\"\n",
        "    burn-time=\"12\" massFrac=\"0.5\" Isp=\"230.0\" tDiv=\"10\" tStep=\"-1.\" tFix=\"1\"\n",
        "    FDiv=\"10\" FStep=\"-1.\" FFix=\"1\" mDiv=\"10\" mStep=\"-1.\" mFix=\"1\" cgDiv=\"10\"\n",
        "    cgStep=\"-1.\" cgFix=\"1\">\n",
        "    <comments>Made up</comments>\n",
        "    <data>\n",
        "\n"
       ]
      }
     ],
     "prompt_number": 5
    }
   ],
   "metadata": {}
  }
 ]
}