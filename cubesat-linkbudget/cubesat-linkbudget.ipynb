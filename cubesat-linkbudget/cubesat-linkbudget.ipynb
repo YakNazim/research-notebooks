{
 "metadata": {
  "name": "cubesat-linkbudget"
 },
 "nbformat": 3,
 "nbformat_minor": 0,
 "worksheets": [
  {
   "cells": [
    {
     "cell_type": "markdown",
     "metadata": {},
     "source": [
      "# Cubesat Link Budget\n",
      "\n",
      "What if we were to use WiFi on a cubesat? Is this even possible?\n",
      "\n",
      "We need to know how much power we will have to use on the cubsat. This depends primarily on four things:\n",
      "\n",
      " - Distance between devices\n",
      " - Gain of the antennas\n",
      " - Minimum receive power allowable\n",
      " - Frequency\n",
      "\n",
      "The so-called [Friis transmission equation](http://en.wikipedia.org/wiki/Friis_transmission_equation) is useful for determining the power recieved at one antenna assuming ideal conditions and free-space path loss between the two:\n",
      "\n",
      "$$\\begin{equation}P_r = P_t+G_t+G_r+20 \\log_{10} \\left( \\frac{\\lambda}{4\\pi R}\\right)\\end{equation}$$\n",
      "\n",
      "We can set some univseral constants and and handy conversion utility right away"
     ]
    },
    {
     "cell_type": "code",
     "collapsed": false,
     "input": [
      "from math import pi, log10, sqrt\n",
      "c    = 299792458.0   # m/s   Speed of light\n",
      "R_e  =   6371000.0   # m     Mean radius of Earth\n",
      "\n",
      "def db2w(db):\n",
      "    'Convert dBm to Watts'\n",
      "    return 0.001*pow(10,db/10.0)"
     ],
     "language": "python",
     "metadata": {},
     "outputs": [],
     "prompt_number": 1
    },
    {
     "cell_type": "markdown",
     "metadata": {},
     "source": [
      "## Define a cubesat\n",
      "\n",
      "### Orbit\n",
      "\n",
      "The distance (slant range) of the cubesat will depend on what orbit we end up in. Lets assume that we're in a circular orbit at 400 km (similar to the ISS)"
     ]
    },
    {
     "cell_type": "code",
     "collapsed": false,
     "input": [
      "h = 400e3   # m   Orbit height above Earth's surface"
     ],
     "language": "python",
     "metadata": {},
     "outputs": [],
     "prompt_number": 2
    },
    {
     "cell_type": "markdown",
     "metadata": {},
     "source": [
      "We can find the best and worst case scenearios for the distance to the sat. Best case is directly overhead, the other is right on the horizon"
     ]
    },
    {
     "cell_type": "code",
     "collapsed": false,
     "input": [
      "R_best = h\n",
      "R_worst = sqrt((R_e+h)**2 - R_e**2)\n",
      "\n",
      "print \"Max range: %0.0f km, Min range: %0.0f km\" % (R_worst/1.0e3, R_best/1.0e3)"
     ],
     "language": "python",
     "metadata": {},
     "outputs": [
      {
       "output_type": "stream",
       "stream": "stdout",
       "text": [
        "Max range: 2293 km, Min range: 400 km\n"
       ]
      }
     ],
     "prompt_number": 3
    },
    {
     "cell_type": "markdown",
     "metadata": {},
     "source": [
      "### Band\n",
      "\n",
      "FCC Part 97 lets us use about 50 MHz of the 2.4 GHz specturm for space trasminsions. This overlaps well with 802.11 channel ~4\n",
      "\n",
      "So lets set our frequency there, and we need at least -95 dBm on the revceive side"
     ]
    },
    {
     "cell_type": "code",
     "collapsed": false,
     "input": [
      "f = 2427e6   # Hz   carrier center frequency (channel 4)\n",
      "Pr = -95     # dBm  Power at recieve antenna\n",
      "\n",
      "l = c/f      # m    wavength of f\n",
      "\n",
      "print \"%0.1f cm band, one 1/4 wavelength = %0.2f mm\" % ((l * 100), (l/4.0)*1000)"
     ],
     "language": "python",
     "metadata": {},
     "outputs": [
      {
       "output_type": "stream",
       "stream": "stdout",
       "text": [
        "12.4 cm band, one 1/4 wavelength = 30.88 mm\n"
       ]
      }
     ],
     "prompt_number": 4
    },
    {
     "cell_type": "markdown",
     "metadata": {},
     "source": [
      "## Scenarios\n",
      "\n",
      "We want to look at a couple of different power and antenna scenarios. Lets define one that is 'super ham' where we have a big dish on the ground. This is unlikely to be replicated by many amateurs, but at least we will be able to recieve the signal. The other will be 'super sat' which will be much harder to construct, but may allow more modest ground equipment. The intermediat solution doesn't do anything fancy on either side. \n",
      "\n",
      "For each scenario we'll define the gain of each antenna, `Gt` gain at the cubesat and `Gr`, gain on the ground"
     ]
    },
    {
     "cell_type": "code",
     "collapsed": false,
     "input": [
      "scenarios = [\n",
      "    {'name': \"Super Ham\",       'Gt':  0, 'Gr': 30},\n",
      "    {'name': \"Normal\",          'Gt':  6, 'Gr':  6},\n",
      "    {'name': \"Super Satellite\", 'Gt': 15, 'Gr':  6},\n",
      "]"
     ],
     "language": "python",
     "metadata": {},
     "outputs": [],
     "prompt_number": 5
    },
    {
     "cell_type": "markdown",
     "metadata": {},
     "source": [
      "# Results\n",
      "\n",
      "Now we can look at what happens in each case"
     ]
    },
    {
     "cell_type": "code",
     "collapsed": false,
     "input": [
      "for scenario in scenarios:\n",
      "    dBm_best  = Pr - scenario['Gr'] - scenario['Gt'] - (20*log10(l/(4*pi*R_best)))\n",
      "    dBm_worst = Pr - scenario['Gr'] - scenario['Gt'] - (20*log10(l/(4*pi*R_worst)))\n",
      "\n",
      "    print \"%25s: Overhead: %6.1f W (%2.0f dBm),  Worst: %6.1f W (%2.0f dBm)\" % (scenario['name'], db2w(dBm_best), dBm_best, db2w(dBm_worst), dBm_worst)"
     ],
     "language": "python",
     "metadata": {},
     "outputs": [
      {
       "output_type": "stream",
       "stream": "stdout",
       "text": [
        "                Super Ham: Overhead:    0.5 W (27 dBm),  Worst:   17.2 W (42 dBm)\n",
        "                   Normal: Overhead:   33.0 W (45 dBm),  Worst: 1085.5 W (60 dBm)\n",
        "          Super Satellite: Overhead:    4.2 W (36 dBm),  Worst:  136.7 W (51 dBm)\n"
       ]
      }
     ],
     "prompt_number": 6
    },
    {
     "cell_type": "markdown",
     "metadata": {},
     "source": [
      "## Discusion\n",
      "\n",
      "Clearly we need some pretty good gain. The nothing special case requires kW at the satellite (this is laughable).  Even the super sat is not very good without serious gain on the ground. We're probably not going to get out of having a dish.\n",
      "\n",
      "On the other hand, in the super ham version we can get away with only about one Watt while being able to recieve for some period of time during an overhead pass."
     ]
    }
   ],
   "metadata": {}
  }
 ]
}