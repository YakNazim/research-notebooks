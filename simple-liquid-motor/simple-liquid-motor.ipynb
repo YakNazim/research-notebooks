{
 "metadata": {
  "name": ""
 },
 "nbformat": 3,
 "nbformat_minor": 0,
 "worksheets": [
  {
   "cells": [
    {
     "cell_type": "markdown",
     "metadata": {},
     "source": [
      "# Liquid Rocket Motor Back Of The Envelope Calculations\n",
      "\n",
      "How much power does it take to run a small liquid rocket motor? Is it hundreds of Watts, or killoWatts? Does it take 500 liters of fuel?\n",
      "\n",
      "Just to get a feel for the problem space and what small motors might look and act like here are a bunch of simple calculations.\n",
      "\n",
      "---\n",
      "\n",
      "To start off let's import `math` and set $g_0$ to the standard value."
     ]
    },
    {
     "cell_type": "code",
     "collapsed": false,
     "input": [
      "from math import pi\n",
      "g_0 = 9.8066"
     ],
     "language": "python",
     "metadata": {},
     "outputs": [],
     "prompt_number": 1
    },
    {
     "cell_type": "markdown",
     "metadata": {},
     "source": [
      "## Define The Motor\n",
      "\n",
      "We want a ~2.5 kN LOX/ethanol motor. We can use the program [Rocket Propulsion Analysis](http://www.propulsion-analysis.com/) to do the basic thermodynamic and chemical equilibrium calculations for the given fuels. So we can start off with the following numbers:"
     ]
    },
    {
     "cell_type": "code",
     "collapsed": false,
     "input": [
      "v_e = 2500.0   # m s-1    - Effective propellant velocity (from RPA)\n",
      "T   = 2500.0   # N        - Thrust (set by us)\n",
      "OF  =    1.35  #          - O/F Ratio, (from RPA)\n",
      "P   =  3.5e6   # Pa       - Chamber pressure (set by us)\n",
      "O_r = 1146.0   # kg m-3   - Density of LOX\n",
      "F_r =  789.0   # kg m-3   - Density of Ethanol\n",
      "F_w = 1000.0   # kg m-3   - Density of water\n",
      "F_r = F_r*0.7 + F_w*0.3 # density of 70% ethanol/water"
     ],
     "language": "python",
     "metadata": {},
     "outputs": [],
     "prompt_number": 2
    },
    {
     "cell_type": "markdown",
     "metadata": {},
     "source": [
      "## Mass Flow Rate\n",
      "\n",
      "Thrust is directly proportional to the effective velocity, $v_e$ and the mass flow rate of the motor, $\\dot m$.\n",
      "\n",
      "$$\\begin{equation}\\text T = \\dot m v_e\\end{equation}$$\n",
      "\n",
      "So we can solve for total $\\dot m$. Since we also know O/F (by mass) we can get out $\\dot m_{ox}$ and $\\dot m_f$ as well."
     ]
    },
    {
     "cell_type": "code",
     "collapsed": false,
     "input": [
      "mdot = T / v_e\n",
      "\n",
      "mdot_O = mdot / (1 + (1/OF))\n",
      "mdot_F = mdot / (1 + OF)"
     ],
     "language": "python",
     "metadata": {},
     "outputs": [],
     "prompt_number": 3
    },
    {
     "cell_type": "markdown",
     "metadata": {},
     "source": [
      "Using the density of the fluids involved we can find that"
     ]
    },
    {
     "cell_type": "code",
     "collapsed": false,
     "input": [
      "flow_O = mdot_O / O_r  # m^3\n",
      "flow_F = mdot_F / F_r  # m^3\n",
      "print \"We eat %0.2f L/s of LOX and %0.2f L/s of Ethanol\" % (flow_O * 1.0e3, flow_F * 1.0e3) # convert m3 to L\n",
      "print \"(%0.2f kg/s of LOX and %0.2f kg/s of Ethanol)\" % (mdot_O, mdot_F)"
     ],
     "language": "python",
     "metadata": {},
     "outputs": [
      {
       "output_type": "stream",
       "stream": "stdout",
       "text": [
        "We eat 0.50 L/s of LOX and 0.50 L/s of Ethanol\n",
        "(0.57 kg/s of LOX and 0.43 kg/s of Ethanol)\n"
       ]
      }
     ],
     "prompt_number": 4
    },
    {
     "cell_type": "markdown",
     "metadata": {},
     "source": [
      "## Motor Power\n",
      "\n",
      "Knowing the total $\\dot m$ and $v_e$ also gets us the motor power. This is rarely used in rocketry because it's much more meaningful and direct to deal with thrust in Newtons instead of 'power' in Watts. Still, it's an interesting aside.\n",
      "\n",
      "The motor power is effectivly the work done by the exiting gas:\n",
      "\n",
      "$$\\begin{equation}\\text{Pow}_{motor}= \\frac{1}{2}\\dot m {v_e}^2\\end{equation}$$"
     ]
    },
    {
     "cell_type": "code",
     "collapsed": false,
     "input": [
      "P_T = 0.5 * mdot * v_e**2\n",
      "print \"Motor ouput power: %0.1f MW\" % (P_T / 1.0e6)"
     ],
     "language": "python",
     "metadata": {},
     "outputs": [
      {
       "output_type": "stream",
       "stream": "stdout",
       "text": [
        "Motor ouput power: 3.1 MW\n"
       ]
      }
     ],
     "prompt_number": 5
    },
    {
     "cell_type": "markdown",
     "metadata": {},
     "source": [
      "## Burn Time\n",
      "\n",
      "Let's start with 30 seconds of burn time. We can then calculate the total mass of volume of fuel. Assuming a ~6 inch diameter airframe we can guess at tank size too."
     ]
    },
    {
     "cell_type": "code",
     "collapsed": false,
     "input": [
      "t_bo = 30               # s    - Burn time\n",
      "A_id =  0.152           # m    - airframe ID\n",
      "\n",
      "Ox_m = (mdot_O * t_bo)  # kg\n",
      "Fu_m = (mdot_F * t_bo)  # kg\n",
      "Ox_v = (Ox_m/O_r)       # m3\n",
      "Fu_v = (Fu_m/F_r)       # m3\n",
      "\n",
      "h_Ox = Ox_v / (pi*(A_id/2.0)**2)       # LOX tank size\n",
      "h_Fu = Fu_v / (pi*(A_id/2.0)**2)       # Ethanol tank size\n",
      "h = (Ox_v + Fu_v)/(pi*(A_id/2.0)**2)  # Total tank length\n",
      "\n",
      "print \"Fuel for a %0.0f second burn time:\" % t_bo\n",
      "print \"    LOX:        %0.1f Liters (%4.1f kg)\" % (Ox_v * 1.0e3, Ox_m)\n",
      "print \"    Ethanol:    %0.1f Liters (%4.1f kg)\" % (Fu_v * 1.0e3, Fu_m)\n",
      "print \"    Total prop: %0.1f Liters (%4.1f kg)\" % ((Ox_v + Fu_v) * 1.0e3, Ox_m+Fu_m)\n",
      "print \"LOX tank length:     %0.3f m\" % (h_Ox)\n",
      "print \"Ethanol tank length: %0.3f m\" % (h_Fu)\n",
      "print \"Total propelent tank height at %0.0f mm OD: %0.1f m\" % (A_id*1.0e3, h)"
     ],
     "language": "python",
     "metadata": {},
     "outputs": [
      {
       "output_type": "stream",
       "stream": "stdout",
       "text": [
        "Fuel for a 30 second burn time:\n",
        "    LOX:        15.0 Liters (17.2 kg)\n",
        "    Ethanol:    15.0 Liters (12.8 kg)\n",
        "    Total prop: 30.0 Liters (30.0 kg)\n",
        "LOX tank length:     0.829 m\n",
        "Ethanol tank length: 0.825 m\n",
        "Total propelent tank height at 152 mm OD: 1.7 m\n"
       ]
      }
     ],
     "prompt_number": 6
    },
    {
     "cell_type": "markdown",
     "metadata": {},
     "source": [
      "## Pump Power\n",
      "\n",
      "Most interestingly we can guess at the pump shaft power nessisary for a motor of this class.\n",
      "\n",
      "All pumps are less than ideal. So we always divide our moving propellant energy by a pump/motor efficiency scaler, $\\eta$.\n",
      "\n",
      "$$\\begin{equation}\\text{Pow}_{pump} = \\frac{\\Delta \\text{P} Q}{\\eta}\\end{equation}$$\n",
      "\n",
      "Where $\\Delta\\text P$ is the differental pressure (pump inlet -> outlet) and $Q$ is the fluid flowrate (m<sup>3</sup>&middot;s<sup>-1</sup>)"
     ]
    },
    {
     "cell_type": "code",
     "collapsed": false,
     "input": [
      "nu = 0.6  # pump efficiency\n",
      "\n",
      "Pow_O = (P*(mdot_O/O_r))/nu\n",
      "Pow_F = (P*(mdot_F/F_r))/nu\n",
      "\n",
      "print \"Pump Stats:\"\n",
      "print \"    Oxidizer pump shaft power: %0.1f kW\" % (Pow_O / 1e3)\n",
      "print \"    Fuel pump shaft power:     %0.1f kW\" % (Pow_F / 1e3)\n",
      "print \"    Total Power:               %0.1f kW\" % ((Pow_O + Pow_F) / 1e3)"
     ],
     "language": "python",
     "metadata": {},
     "outputs": [
      {
       "output_type": "stream",
       "stream": "stdout",
       "text": [
        "Pump Stats:\n",
        "    Oxidizer pump shaft power: 2.9 kW\n",
        "    Fuel pump shaft power:     2.9 kW\n",
        "    Total Power:               5.8 kW\n"
       ]
      }
     ],
     "prompt_number": 7
    },
    {
     "cell_type": "markdown",
     "metadata": {},
     "source": [
      "# Other Numbers\n",
      "\n",
      "We can also make a stab at less important but fun numbers.\n",
      "\n",
      "## Propellant Costs\n",
      "\n",
      "Fuel is cheap. Insanely cheap."
     ]
    },
    {
     "cell_type": "code",
     "collapsed": false,
     "input": [
      "pc_O =  2.0 # $/kg  ???\n",
      "pc_F =  2.0 # $/kg  ???\n",
      "\n",
      "print \"Price:\"\n",
      "print \"    LOX:      $%0.2f\" % (Ox_m*pc_O)\n",
      "print \"    Ethanol:  $%0.2f\" % (Fu_m*pc_F)\n",
      "print \"    Total:    $%0.2f\" % ((Ox_m*pc_O) + (Fu_m*pc_F))"
     ],
     "language": "python",
     "metadata": {},
     "outputs": [
      {
       "output_type": "stream",
       "stream": "stdout",
       "text": [
        "Price:\n",
        "    LOX:      $34.47\n",
        "    Ethanol:  $25.53\n",
        "    Total:    $60.00\n"
       ]
      }
     ],
     "prompt_number": 8
    },
    {
     "cell_type": "markdown",
     "metadata": {},
     "source": [
      "## NAR Letter Code\n",
      "\n",
      "What kind of motor is this?"
     ]
    },
    {
     "cell_type": "code",
     "collapsed": false,
     "input": [
      "NS = T * t_bo  # Ns   - total impulse\n",
      "\n",
      "l = 2.5\n",
      "for i in xrange(26):\n",
      "    if NS < l:\n",
      "        letter = chr(ord('A')+i)\n",
      "        break\n",
      "    l = l*2\n",
      "\n",
      "percent = NS/l\n",
      "print \"Motor letter designation: %s (%0.0f Ns, %0.0f%%)\" % (letter, NS, percent*100)"
     ],
     "language": "python",
     "metadata": {},
     "outputs": [
      {
       "output_type": "stream",
       "stream": "stdout",
       "text": [
        "Motor letter designation: P (75000 Ns, 92%)\n"
       ]
      }
     ],
     "prompt_number": 9
    }
   ],
   "metadata": {}
  }
 ]
}